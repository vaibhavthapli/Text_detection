{
 "cells": [
  {
   "cell_type": "code",
   "execution_count": 1,
   "id": "2353c6dd",
   "metadata": {},
   "outputs": [],
   "source": [
    "from tensorflow.compat.v1 import ConfigProto, InteractiveSession\n",
    "\n",
    "config = ConfigProto()\n",
    "config.gpu_options.per_process_gpu_memory_fraction = 0.7\n",
    "config.gpu_options.allow_growth = True\n",
    "session = InteractiveSession(config = config)"
   ]
  },
  {
   "cell_type": "code",
   "execution_count": 2,
   "id": "d5d7f5cf",
   "metadata": {},
   "outputs": [],
   "source": [
    "import numpy as np\n",
    "import tensorflow as tf\n",
    "from tensorflow import keras\n",
    "from keras.models import Sequential\n",
    "from keras.layers import Dense\n",
    "from keras.utils.np_utils import to_categorical\n",
    "from keras.layers import Dropout, Flatten\n",
    "from keras.layers.convolutional import Conv2D, MaxPooling2D\n",
    "import cv2 as cv\n",
    "from sklearn.model_selection import train_test_split\n",
    "import pickle\n",
    "import os\n",
    "import pandas as pd\n",
    "import random\n",
    "from keras.preprocessing.image import ImageDataGenerator\n",
    " "
   ]
  },
  {
   "cell_type": "code",
   "execution_count": 3,
   "id": "a0d47107",
   "metadata": {},
   "outputs": [],
   "source": [
    "#path of data\n",
    "path = \"data\""
   ]
  },
  {
   "cell_type": "code",
   "execution_count": 4,
   "id": "4864247e",
   "metadata": {},
   "outputs": [
    {
     "name": "stdout",
     "output_type": "stream",
     "text": [
      "['0', '1', '2', '3', '4', '5', '6', '7', '8', '9']\n"
     ]
    }
   ],
   "source": [
    "#check classes in side the folder\n",
    "mylist = os.listdir(path)\n",
    "print(mylist)"
   ]
  },
  {
   "cell_type": "code",
   "execution_count": 5,
   "id": "b74d7683",
   "metadata": {},
   "outputs": [
    {
     "data": {
      "text/plain": [
       "10"
      ]
     },
     "execution_count": 5,
     "metadata": {},
     "output_type": "execute_result"
    }
   ],
   "source": [
    "noofclasses = (len(mylist))\n",
    "noofclasses    #number of classes"
   ]
  },
  {
   "cell_type": "code",
   "execution_count": 6,
   "id": "9701d42a",
   "metadata": {},
   "outputs": [],
   "source": [
    "images = []\n",
    "classesNo = []\n",
    "testRatio = 0.2   \n",
    "validationRatio = 0.2 "
   ]
  },
  {
   "cell_type": "code",
   "execution_count": 7,
   "id": "572ee22b",
   "metadata": {},
   "outputs": [
    {
     "name": "stdout",
     "output_type": "stream",
     "text": [
      "0 1 2 3 4 5 6 7 8 9 "
     ]
    }
   ],
   "source": [
    "for x in range (0,noofclasses):\n",
    "    myPicList = os.listdir(path + \"/\" + str(x))\n",
    "    for y in myPicList:\n",
    "        curImg = cv.imread(path + \"/\" + str(x) +\"/\"+ y)\n",
    "        curImg = cv.resize(curImg,(150,150))\n",
    "        images.append(curImg)\n",
    "        classesNo.append(x)\n",
    "    print(x,end=\" \")"
   ]
  },
  {
   "cell_type": "code",
   "execution_count": 8,
   "id": "53db917d",
   "metadata": {},
   "outputs": [
    {
     "name": "stdout",
     "output_type": "stream",
     "text": [
      "60000\n",
      "60000\n"
     ]
    }
   ],
   "source": []
  },
  {
   "cell_type": "code",
   "execution_count": 9,
   "id": "31b83238",
   "metadata": {},
   "outputs": [],
   "source": [
    "images = np.array(images)\n",
    "classesNo = np.array(classesNo)"
   ]
  },
  {
   "cell_type": "code",
   "execution_count": 10,
   "id": "b5b9626c",
   "metadata": {},
   "outputs": [
    {
     "name": "stdout",
     "output_type": "stream",
     "text": [
      "60000\n",
      "60000\n"
     ]
    }
   ],
   "source": [
    "print(len(images))\n",
    "print(len(classesNo))"
   ]
  },
  {
   "cell_type": "code",
   "execution_count": 12,
   "id": "4d529cd4",
   "metadata": {},
   "outputs": [
    {
     "name": "stdout",
     "output_type": "stream",
     "text": [
      "(60000, 150, 150, 3)\n",
      "(60000,)\n"
     ]
    }
   ],
   "source": [
    "print(images.shape)\n",
    "print(classesNo.shape)"
   ]
  },
  {
   "cell_type": "code",
   "execution_count": 13,
   "id": "40df903f",
   "metadata": {},
   "outputs": [],
   "source": [
    "X_train, X_test, y_train, y_test = train_test_split(images, classesNo, test_size=testRatio)\n",
    "X_train, X_validation, y_train, y_validation = train_test_split(X_train, y_train, test_size=validationRatio)"
   ]
  },
  {
   "cell_type": "code",
   "execution_count": 14,
   "id": "5668f1d7",
   "metadata": {},
   "outputs": [
    {
     "name": "stdout",
     "output_type": "stream",
     "text": [
      "(38400, 150, 150, 3)\n",
      "(9600, 150, 150, 3)\n",
      "(12000, 150, 150, 3)\n"
     ]
    }
   ],
   "source": [
    "print(X_train.shape)\n",
    "print(X_validation.shape)\n",
    "print(X_test.shape)"
   ]
  },
  {
   "cell_type": "code",
   "execution_count": 16,
   "id": "c7012b1d",
   "metadata": {},
   "outputs": [],
   "source": [
    "# save our data\n",
    "pickle_out = open(\"x_train\",\"wb\")\n",
    "pickle.dump(X_train, pickle_out)\n",
    "pickle_out.close()\n",
    "\n",
    "pickle_out = open(\"y_train\",\"wb\")\n",
    "pickle.dump(y_train, pickle_out)\n",
    "pickle_out.close()\n",
    "\n",
    "pickle_out = open(\"x_test\",\"wb\")\n",
    "pickle.dump(X_test, pickle_out)\n",
    "pickle_out.close()\n",
    "\n",
    "pickle_out = open(\"y_test\",\"wb\")\n",
    "pickle.dump(y_test, pickle_out)\n",
    "pickle_out.close()\n",
    "\n",
    "pickle_out = open(\"x_val\",\"wb\")\n",
    "pickle.dump(X_validation, pickle_out)\n",
    "pickle_out.close()\n",
    "\n",
    "pickle_out = open(\"y_val\",\"wb\")\n",
    "pickle.dump(y_validation, pickle_out)\n",
    "pickle_out.close()"
   ]
  },
  {
   "cell_type": "code",
   "execution_count": null,
   "id": "d11678eb",
   "metadata": {},
   "outputs": [],
   "source": []
  }
 ],
 "metadata": {
  "kernelspec": {
   "display_name": "Python 3 (ipykernel)",
   "language": "python",
   "name": "python3"
  },
  "language_info": {
   "codemirror_mode": {
    "name": "ipython",
    "version": 3
   },
   "file_extension": ".py",
   "mimetype": "text/x-python",
   "name": "python",
   "nbconvert_exporter": "python",
   "pygments_lexer": "ipython3",
   "version": "3.8.10"
  }
 },
 "nbformat": 4,
 "nbformat_minor": 5
}
